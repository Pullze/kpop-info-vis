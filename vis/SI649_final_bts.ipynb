{
 "cells": [
  {
   "cell_type": "code",
   "execution_count": 3,
   "id": "65729851-f83f-42e9-ae42-5703e532a3d4",
   "metadata": {},
   "outputs": [],
   "source": [
    "import pandas as pd\n",
    "import altair as alt\n",
    "import numpy as np\n",
    "import datetime as dt\n",
    "from vega_datasets import data\n",
    "\n"
   ]
  },
  {
   "cell_type": "code",
   "execution_count": 4,
   "id": "c35975cb",
   "metadata": {},
   "outputs": [],
   "source": [
    "df = pd.read_csv('billboard_200_cleaned.csv')"
   ]
  },
  {
   "cell_type": "code",
   "execution_count": 6,
   "id": "656a34b0",
   "metadata": {},
   "outputs": [],
   "source": [
    "df['date'] = pd.to_datetime(df['date'])"
   ]
  },
  {
   "cell_type": "code",
   "execution_count": 28,
   "id": "15d2075a",
   "metadata": {},
   "outputs": [],
   "source": [
    "df['Song/Album Title'] = df['Song/Album Title'].str.replace(r'\\[\\d+\\]', '', regex=True)"
   ]
  },
  {
   "cell_type": "code",
   "execution_count": 29,
   "id": "fdc73714",
   "metadata": {},
   "outputs": [],
   "source": [
    "bts = df[df['Artist'] == 'BTS']"
   ]
  },
  {
   "cell_type": "code",
   "execution_count": 8,
   "id": "9d2fbd06",
   "metadata": {},
   "outputs": [],
   "source": [
    "# bts.to_csv('bts.csv', index=False)"
   ]
  },
  {
   "cell_type": "markdown",
   "id": "34ef6552",
   "metadata": {},
   "source": [
    "## Graph_BTS\n",
    "\n",
    "### Annotations:\n",
    "- In 2009, only one K-pop album - BOA - made it onto the Billboard 200 chart. The album peaked at position 127 and remained on the chart for just one week. \n",
    "- A decade later, nine albums made it onto the Billboard 200, including three releases from BTS. Two of these albums - Love Yourself: Tear and Love Yourself: Answer reached the number one spot and stayed on the chart for over 15 weeks.\n",
    "\n",
    "### !!! TODO: \n",
    "1. insert: https://youtube.com/clip/UgkxX9Ulb1Ai5WpAdtRaz6b9lqbfytEHaLwu?si=8b0bvQJwIqKKKPyr\n",
    "2. make the dots as lines\n"
   ]
  },
  {
   "cell_type": "code",
   "execution_count": 30,
   "id": "f0e244d8",
   "metadata": {},
   "outputs": [
    {
     "name": "stderr",
     "output_type": "stream",
     "text": [
      "/var/folders/yz/t21562ys7x37ts3_y63c_6fm0000gn/T/ipykernel_14891/3018936341.py:1: SettingWithCopyWarning: \n",
      "A value is trying to be set on a copy of a slice from a DataFrame.\n",
      "Try using .loc[row_indexer,col_indexer] = value instead\n",
      "\n",
      "See the caveats in the documentation: https://pandas.pydata.org/pandas-docs/stable/user_guide/indexing.html#returning-a-view-versus-a-copy\n",
      "  bts['date'] = pd.to_datetime(df['date'])\n"
     ]
    }
   ],
   "source": [
    "bts['date'] = pd.to_datetime(df['date'])"
   ]
  },
  {
   "cell_type": "code",
   "execution_count": 31,
   "id": "4ae06776",
   "metadata": {},
   "outputs": [
    {
     "data": {
      "text/html": [
       "<div>\n",
       "<style scoped>\n",
       "    .dataframe tbody tr th:only-of-type {\n",
       "        vertical-align: middle;\n",
       "    }\n",
       "\n",
       "    .dataframe tbody tr th {\n",
       "        vertical-align: top;\n",
       "    }\n",
       "\n",
       "    .dataframe thead th {\n",
       "        text-align: right;\n",
       "    }\n",
       "</style>\n",
       "<table border=\"1\" class=\"dataframe\">\n",
       "  <thead>\n",
       "    <tr style=\"text-align: right;\">\n",
       "      <th></th>\n",
       "      <th>date</th>\n",
       "      <th>Artist</th>\n",
       "      <th>Song/Album Title</th>\n",
       "      <th>Peak Position</th>\n",
       "      <th>Weeks on Chart</th>\n",
       "      <th>year</th>\n",
       "      <th>generation</th>\n",
       "      <th>debut_years</th>\n",
       "    </tr>\n",
       "  </thead>\n",
       "  <tbody>\n",
       "    <tr>\n",
       "      <th>10</th>\n",
       "      <td>2015-12-19</td>\n",
       "      <td>BTS</td>\n",
       "      <td>The Most Beautiful Moment In Life, Part 2</td>\n",
       "      <td>171</td>\n",
       "      <td>1</td>\n",
       "      <td>2015</td>\n",
       "      <td>3</td>\n",
       "      <td>2012 - 2017</td>\n",
       "    </tr>\n",
       "    <tr>\n",
       "      <th>11</th>\n",
       "      <td>2016-05-21</td>\n",
       "      <td>BTS</td>\n",
       "      <td>The Most Beautiful Moment In Life: Young Forever</td>\n",
       "      <td>107</td>\n",
       "      <td>1</td>\n",
       "      <td>2016</td>\n",
       "      <td>3</td>\n",
       "      <td>2012 - 2017</td>\n",
       "    </tr>\n",
       "    <tr>\n",
       "      <th>12</th>\n",
       "      <td>2016-10-29</td>\n",
       "      <td>BTS</td>\n",
       "      <td>Wings</td>\n",
       "      <td>26</td>\n",
       "      <td>2</td>\n",
       "      <td>2016</td>\n",
       "      <td>3</td>\n",
       "      <td>2012 - 2017</td>\n",
       "    </tr>\n",
       "    <tr>\n",
       "      <th>14</th>\n",
       "      <td>2017-03-04</td>\n",
       "      <td>BTS</td>\n",
       "      <td>You Never Walk Alone</td>\n",
       "      <td>61</td>\n",
       "      <td>2</td>\n",
       "      <td>2017</td>\n",
       "      <td>3</td>\n",
       "      <td>2012 - 2017</td>\n",
       "    </tr>\n",
       "    <tr>\n",
       "      <th>17</th>\n",
       "      <td>2017-10-07</td>\n",
       "      <td>BTS</td>\n",
       "      <td>Love Yourself: Her</td>\n",
       "      <td>7</td>\n",
       "      <td>7</td>\n",
       "      <td>2017</td>\n",
       "      <td>3</td>\n",
       "      <td>2012 - 2017</td>\n",
       "    </tr>\n",
       "  </tbody>\n",
       "</table>\n",
       "</div>"
      ],
      "text/plain": [
       "         date Artist                                  Song/Album Title  \\\n",
       "10 2015-12-19    BTS         The Most Beautiful Moment In Life, Part 2   \n",
       "11 2016-05-21    BTS  The Most Beautiful Moment In Life: Young Forever   \n",
       "12 2016-10-29    BTS                                             Wings   \n",
       "14 2017-03-04    BTS                              You Never Walk Alone   \n",
       "17 2017-10-07    BTS                                Love Yourself: Her   \n",
       "\n",
       "    Peak Position  Weeks on Chart  year  generation  debut_years  \n",
       "10            171               1  2015           3  2012 - 2017  \n",
       "11            107               1  2016           3  2012 - 2017  \n",
       "12             26               2  2016           3  2012 - 2017  \n",
       "14             61               2  2017           3  2012 - 2017  \n",
       "17              7               7  2017           3  2012 - 2017  "
      ]
     },
     "execution_count": 31,
     "metadata": {},
     "output_type": "execute_result"
    }
   ],
   "source": [
    "bts.head()"
   ]
  },
  {
   "cell_type": "code",
   "execution_count": 72,
   "id": "978fde69",
   "metadata": {},
   "outputs": [
    {
     "name": "stderr",
     "output_type": "stream",
     "text": [
      "/var/folders/yz/t21562ys7x37ts3_y63c_6fm0000gn/T/ipykernel_14891/2970721905.py:17: AltairDeprecationWarning: Deprecated in `altair=5.0.0`. Use add_params instead.\n",
      "  ).add_selection(\n"
     ]
    }
   ],
   "source": [
    "# Create a selection for the click interaction\n",
    "brush = alt.selection_interval(encodings=['x'])\n",
    "\n",
    "# Create the timeline chart\n",
    "chart = alt.Chart(bts).mark_bar().encode(\n",
    "    x=alt.X('date:T', title='Date', axis=alt.Axis(\n",
    "        labelAngle=-45,  # Rotate labels for readability\n",
    "    )),\n",
    "    y=alt.Y('Weeks on Chart:Q', title='Weeks on Chart'),\n",
    "    color=alt.Color('Weeks on Chart:Q', title='Weeks on Chart', scale=alt.Scale(scheme='accent')),\n",
    "    tooltip=[\n",
    "        alt.Tooltip('Song/Album Title:N', title='Song/Album Title'),\n",
    "        alt.Tooltip('Peak Position:Q', title='Peak Position'),\n",
    "        alt.Tooltip('Weeks on Chart:Q', title='Weeks on Chart'),\n",
    "        alt.Tooltip('year:O', title='Year'),\n",
    "    ]\n",
    ").add_selection(\n",
    "    brush\n",
    ").properties(\n",
    "    title='Timeline of Songs/Albums on Chart',\n",
    "    width=600,\n",
    "    height=400\n",
    ")"
   ]
  },
  {
   "cell_type": "code",
   "execution_count": 73,
   "id": "9f45f16e",
   "metadata": {},
   "outputs": [
    {
     "name": "stderr",
     "output_type": "stream",
     "text": [
      "/var/folders/yz/t21562ys7x37ts3_y63c_6fm0000gn/T/ipykernel_14891/3801873971.py:14: AltairDeprecationWarning: Deprecated in `altair=5.0.0`. Use add_params instead.\n",
      "  ).add_selection(\n"
     ]
    }
   ],
   "source": [
    "# Create the scatter plot\n",
    "\n",
    "scatter = alt.Chart(bts).mark_circle(size=100).encode(\n",
    "    y=alt.Y('Peak Position:Q', title='Peak Position (Weeks)', scale=alt.Scale(reverse=True)),\n",
    "    x=alt.X('Song/Album Title:N', sort='-y', title='Song/Album',axis=alt.Axis(\n",
    "        labelAngle=-45,     # Rotate labels for readability\n",
    "    )),\n",
    "    opacity=alt.condition(brush, alt.value(1.0), alt.value(0.2)),\n",
    "    color=alt.Color('Peak Position:Q', title='Peak Position', scale=alt.Scale(scheme='accent')),\n",
    "    tooltip=['Song/Album Title:N', 'Peak Position:Q']\n",
    ").transform_window(\n",
    "    rank='rank(Peak Position)',\n",
    "    sort=[alt.SortField('Peak Position', order='ascending')]\n",
    ").add_selection(\n",
    "    brush\n",
    ").properties(\n",
    "    width=300,\n",
    "    height=150,\n",
    "    title='Peak Position of Songs/Albums on Chart'\n",
    ")\n",
    "\n",
    "\n",
    "\n",
    "# Combine the line chart and bar chart\n",
    "final_chart = alt.vconcat(chart, scatter)\n"
   ]
  },
  {
   "cell_type": "code",
   "execution_count": 74,
   "id": "cfb5ea5b",
   "metadata": {},
   "outputs": [
    {
     "data": {
      "text/html": [
       "\n",
       "<style>\n",
       "  #altair-viz-ae6bb5e9e3f943d3955bf3c1a7e49cd2.vega-embed {\n",
       "    width: 100%;\n",
       "    display: flex;\n",
       "  }\n",
       "\n",
       "  #altair-viz-ae6bb5e9e3f943d3955bf3c1a7e49cd2.vega-embed details,\n",
       "  #altair-viz-ae6bb5e9e3f943d3955bf3c1a7e49cd2.vega-embed details summary {\n",
       "    position: relative;\n",
       "  }\n",
       "</style>\n",
       "<div id=\"altair-viz-ae6bb5e9e3f943d3955bf3c1a7e49cd2\"></div>\n",
       "<script type=\"text/javascript\">\n",
       "  var VEGA_DEBUG = (typeof VEGA_DEBUG == \"undefined\") ? {} : VEGA_DEBUG;\n",
       "  (function(spec, embedOpt){\n",
       "    let outputDiv = document.currentScript.previousElementSibling;\n",
       "    if (outputDiv.id !== \"altair-viz-ae6bb5e9e3f943d3955bf3c1a7e49cd2\") {\n",
       "      outputDiv = document.getElementById(\"altair-viz-ae6bb5e9e3f943d3955bf3c1a7e49cd2\");\n",
       "    }\n",
       "    const paths = {\n",
       "      \"vega\": \"https://cdn.jsdelivr.net/npm/vega@5?noext\",\n",
       "      \"vega-lib\": \"https://cdn.jsdelivr.net/npm/vega-lib?noext\",\n",
       "      \"vega-lite\": \"https://cdn.jsdelivr.net/npm/vega-lite@5.20.1?noext\",\n",
       "      \"vega-embed\": \"https://cdn.jsdelivr.net/npm/vega-embed@6?noext\",\n",
       "    };\n",
       "\n",
       "    function maybeLoadScript(lib, version) {\n",
       "      var key = `${lib.replace(\"-\", \"\")}_version`;\n",
       "      return (VEGA_DEBUG[key] == version) ?\n",
       "        Promise.resolve(paths[lib]) :\n",
       "        new Promise(function(resolve, reject) {\n",
       "          var s = document.createElement('script');\n",
       "          document.getElementsByTagName(\"head\")[0].appendChild(s);\n",
       "          s.async = true;\n",
       "          s.onload = () => {\n",
       "            VEGA_DEBUG[key] = version;\n",
       "            return resolve(paths[lib]);\n",
       "          };\n",
       "          s.onerror = () => reject(`Error loading script: ${paths[lib]}`);\n",
       "          s.src = paths[lib];\n",
       "        });\n",
       "    }\n",
       "\n",
       "    function showError(err) {\n",
       "      outputDiv.innerHTML = `<div class=\"error\" style=\"color:red;\">${err}</div>`;\n",
       "      throw err;\n",
       "    }\n",
       "\n",
       "    function displayChart(vegaEmbed) {\n",
       "      vegaEmbed(outputDiv, spec, embedOpt)\n",
       "        .catch(err => showError(`Javascript Error: ${err.message}<br>This usually means there's a typo in your chart specification. See the javascript console for the full traceback.`));\n",
       "    }\n",
       "\n",
       "    if(typeof define === \"function\" && define.amd) {\n",
       "      requirejs.config({paths});\n",
       "      require([\"vega-embed\"], displayChart, err => showError(`Error loading script: ${err.message}`));\n",
       "    } else {\n",
       "      maybeLoadScript(\"vega\", \"5\")\n",
       "        .then(() => maybeLoadScript(\"vega-lite\", \"5.20.1\"))\n",
       "        .then(() => maybeLoadScript(\"vega-embed\", \"6\"))\n",
       "        .catch(showError)\n",
       "        .then(() => displayChart(vegaEmbed));\n",
       "    }\n",
       "  })({\"config\": {\"view\": {\"continuousWidth\": 300, \"continuousHeight\": 300}}, \"vconcat\": [{\"mark\": {\"type\": \"bar\"}, \"encoding\": {\"color\": {\"field\": \"Weeks on Chart\", \"scale\": {\"scheme\": \"accent\"}, \"title\": \"Weeks on Chart\", \"type\": \"quantitative\"}, \"tooltip\": [{\"field\": \"Song/Album Title\", \"title\": \"Song/Album Title\", \"type\": \"nominal\"}, {\"field\": \"Peak Position\", \"title\": \"Peak Position\", \"type\": \"quantitative\"}, {\"field\": \"Weeks on Chart\", \"title\": \"Weeks on Chart\", \"type\": \"quantitative\"}, {\"field\": \"year\", \"title\": \"Year\", \"type\": \"ordinal\"}], \"x\": {\"axis\": {\"labelAngle\": -45}, \"field\": \"date\", \"title\": \"Date\", \"type\": \"temporal\"}, \"y\": {\"field\": \"Weeks on Chart\", \"title\": \"Weeks on Chart\", \"type\": \"quantitative\"}}, \"height\": 400, \"name\": \"view_42\", \"title\": \"Timeline of Songs/Albums on Chart\", \"width\": 600}, {\"mark\": {\"type\": \"circle\", \"size\": 100}, \"encoding\": {\"color\": {\"field\": \"Peak Position\", \"scale\": {\"scheme\": \"accent\"}, \"title\": \"Peak Position\", \"type\": \"quantitative\"}, \"opacity\": {\"condition\": {\"param\": \"param_16\", \"value\": 1.0}, \"value\": 0.2}, \"tooltip\": [{\"field\": \"Song/Album Title\", \"type\": \"nominal\"}, {\"field\": \"Peak Position\", \"type\": \"quantitative\"}], \"x\": {\"axis\": {\"labelAngle\": -45}, \"field\": \"Song/Album Title\", \"sort\": \"-y\", \"title\": \"Song/Album\", \"type\": \"nominal\"}, \"y\": {\"field\": \"Peak Position\", \"scale\": {\"reverse\": true}, \"title\": \"Peak Position (Weeks)\", \"type\": \"quantitative\"}}, \"height\": 150, \"name\": \"view_43\", \"title\": \"Peak Position of Songs/Albums on Chart\", \"transform\": [{\"window\": [{\"op\": \"rank\", \"field\": \"Peak Position\", \"as\": \"rank\"}], \"sort\": [{\"field\": \"Peak Position\", \"order\": \"ascending\"}]}], \"width\": 300}], \"data\": {\"name\": \"data-4bb679638cb569deba0f6fd5ae22bec2\"}, \"params\": [{\"name\": \"param_16\", \"select\": {\"type\": \"interval\", \"encodings\": [\"x\"]}, \"views\": [\"view_42\", \"view_43\"]}], \"$schema\": \"https://vega.github.io/schema/vega-lite/v5.20.1.json\", \"datasets\": {\"data-4bb679638cb569deba0f6fd5ae22bec2\": [{\"date\": \"2015-12-19T00:00:00\", \"Artist\": \"BTS\", \"Song/Album Title\": \"The Most Beautiful Moment In Life, Part 2\", \"Peak Position\": 171, \"Weeks on Chart\": 1, \"year\": 2015, \"generation\": 3, \"debut_years\": \"2012 - 2017\"}, {\"date\": \"2016-05-21T00:00:00\", \"Artist\": \"BTS\", \"Song/Album Title\": \"The Most Beautiful Moment In Life: Young Forever\", \"Peak Position\": 107, \"Weeks on Chart\": 1, \"year\": 2016, \"generation\": 3, \"debut_years\": \"2012 - 2017\"}, {\"date\": \"2016-10-29T00:00:00\", \"Artist\": \"BTS\", \"Song/Album Title\": \"Wings\", \"Peak Position\": 26, \"Weeks on Chart\": 2, \"year\": 2016, \"generation\": 3, \"debut_years\": \"2012 - 2017\"}, {\"date\": \"2017-03-04T00:00:00\", \"Artist\": \"BTS\", \"Song/Album Title\": \"You Never Walk Alone\", \"Peak Position\": 61, \"Weeks on Chart\": 2, \"year\": 2017, \"generation\": 3, \"debut_years\": \"2012 - 2017\"}, {\"date\": \"2017-10-07T00:00:00\", \"Artist\": \"BTS\", \"Song/Album Title\": \"Love Yourself: Her\", \"Peak Position\": 7, \"Weeks on Chart\": 7, \"year\": 2017, \"generation\": 3, \"debut_years\": \"2012 - 2017\"}, {\"date\": \"2018-04-14T00:00:00\", \"Artist\": \"BTS\", \"Song/Album Title\": \"Face Yourself\", \"Peak Position\": 43, \"Weeks on Chart\": 1, \"year\": 2018, \"generation\": 3, \"debut_years\": \"2012 - 2017\"}, {\"date\": \"2018-06-02T00:00:00\", \"Artist\": \"BTS\", \"Song/Album Title\": \"Love Yourself: Tear\", \"Peak Position\": 1, \"Weeks on Chart\": 15, \"year\": 2018, \"generation\": 3, \"debut_years\": \"2012 - 2017\"}, {\"date\": \"2018-09-08T00:00:00\", \"Artist\": \"BTS\", \"Song/Album Title\": \"Love Yourself: Answer\", \"Peak Position\": 1, \"Weeks on Chart\": 31, \"year\": 2018, \"generation\": 3, \"debut_years\": \"2012 - 2017\"}, {\"date\": \"2019-04-27T00:00:00\", \"Artist\": \"BTS\", \"Song/Album Title\": \"Map of the Soul: Persona\", \"Peak Position\": 1, \"Weeks on Chart\": 22, \"year\": 2019, \"generation\": 3, \"debut_years\": \"2012 - 2017\"}, {\"date\": \"2019-07-13T00:00:00\", \"Artist\": \"BTS\", \"Song/Album Title\": \"BTS World: Original Soundtrack\", \"Peak Position\": 26, \"Weeks on Chart\": 1, \"year\": 2019, \"generation\": 3, \"debut_years\": \"2012 - 2017\"}, {\"date\": \"2020-03-07T00:00:00\", \"Artist\": \"BTS\", \"Song/Album Title\": \"Map of the Soul: 7\", \"Peak Position\": 1, \"Weeks on Chart\": 82, \"year\": 2020, \"generation\": 3, \"debut_years\": \"2012 - 2017\"}, {\"date\": \"2020-07-25T00:00:00\", \"Artist\": \"BTS\", \"Song/Album Title\": \"Map of the Soul: 7 - The Journey\", \"Peak Position\": 14, \"Weeks on Chart\": 1, \"year\": 2020, \"generation\": 3, \"debut_years\": \"2012 - 2017\"}, {\"date\": \"2020-10-31T00:00:00\", \"Artist\": \"BTS\", \"Song/Album Title\": \"Skool Luv Affair\", \"Peak Position\": 12, \"Weeks on Chart\": 2, \"year\": 2020, \"generation\": 3, \"debut_years\": \"2012 - 2017\"}, {\"date\": \"2020-12-05T00:00:00\", \"Artist\": \"BTS\", \"Song/Album Title\": \"Be\", \"Peak Position\": 1, \"Weeks on Chart\": 37, \"year\": 2020, \"generation\": 3, \"debut_years\": \"2012 - 2017\"}, {\"date\": \"2021-08-21T00:00:00\", \"Artist\": \"BTS\", \"Song/Album Title\": \"BTS, the Best\", \"Peak Position\": 19, \"Weeks on Chart\": 2, \"year\": 2021, \"generation\": 3, \"debut_years\": \"2012 - 2017\"}, {\"date\": \"2022-06-25T00:00:00\", \"Artist\": \"BTS\", \"Song/Album Title\": \"Proof\", \"Peak Position\": 1, \"Weeks on Chart\": 41, \"year\": 2022, \"generation\": 3, \"debut_years\": \"2012 - 2017\"}]}}, {\"mode\": \"vega-lite\"});\n",
       "</script>"
      ],
      "text/plain": [
       "alt.VConcatChart(...)"
      ]
     },
     "execution_count": 74,
     "metadata": {},
     "output_type": "execute_result"
    }
   ],
   "source": [
    "final_chart"
   ]
  },
  {
   "cell_type": "code",
   "execution_count": null,
   "id": "368271ff",
   "metadata": {},
   "outputs": [],
   "source": [
    "# Create generation based on artist name \n",
    "# df['generation'] = np.where(df['Artist'] == 'BoA', 1, df['generation'])\n",
    "# df['generation'] = np.where(df['Artist'].isin(['Big Bang', '2NE1', \"Girls' Generation-TTS\", \"Girls' Generation\", 'Taeyang', 'G-Dragon', \"Jackson Wang\", 'Jonghyun']), 2, df['generation'])\n",
    "# df['generation'] = np.where(df['Artist'].isin(['Exo', 'BTS', \"Blackpink\", \"Exo-K\", 'The Rose', 'Seventeen', 'Twice', 'Red Velvet', 'Jimin', 'Jungkook', 'NCT 127', 'NCT Dream', 'NCT', 'J-Hope', 'Loona', 'Nayeon', 'Agust D', 'Jihyo', 'DPR Ian', 'SuperM', 'Monsta X', 'RM', 'V']), 3, df['generation'])\n",
    "# df['generation'] = np.where(df['Artist'].isin(['Stray Kids', '(G)I-dle', 'TXT', 'Itzy', 'Ateez', 'Aespa', 'NewJeans', 'Enhypen', 'Le Sserafim', 'Nmixx', 'P1Harmony', 'Kep1er' ]), 4, df['generation'])\n",
    "# df['generation'] = np.where(df['Artist'].isin(['Babymonster', 'Illit', 'BoyNextDoor', 'Xikers']), 5, df['generation'])\n",
    "  "
   ]
  }
 ],
 "metadata": {
  "kernelspec": {
   "display_name": "si649",
   "language": "python",
   "name": "python3"
  },
  "language_info": {
   "codemirror_mode": {
    "name": "ipython",
    "version": 3
   },
   "file_extension": ".py",
   "mimetype": "text/x-python",
   "name": "python",
   "nbconvert_exporter": "python",
   "pygments_lexer": "ipython3",
   "version": "3.12.2"
  }
 },
 "nbformat": 4,
 "nbformat_minor": 5
}
