{
 "cells": [
  {
   "cell_type": "code",
   "execution_count": 1,
   "metadata": {},
   "outputs": [],
   "source": [
    "import altair as alt"
   ]
  },
  {
   "cell_type": "code",
   "execution_count": 48,
   "metadata": {},
   "outputs": [
    {
     "data": {
      "text/html": [
       "\n",
       "<style>\n",
       "  #altair-viz-2e6ca85d1e164bc1a702c65e42b61c20.vega-embed {\n",
       "    width: 100%;\n",
       "    display: flex;\n",
       "  }\n",
       "\n",
       "  #altair-viz-2e6ca85d1e164bc1a702c65e42b61c20.vega-embed details,\n",
       "  #altair-viz-2e6ca85d1e164bc1a702c65e42b61c20.vega-embed details summary {\n",
       "    position: relative;\n",
       "  }\n",
       "</style>\n",
       "<div id=\"altair-viz-2e6ca85d1e164bc1a702c65e42b61c20\"></div>\n",
       "<script type=\"text/javascript\">\n",
       "  var VEGA_DEBUG = (typeof VEGA_DEBUG == \"undefined\") ? {} : VEGA_DEBUG;\n",
       "  (function(spec, embedOpt){\n",
       "    let outputDiv = document.currentScript.previousElementSibling;\n",
       "    if (outputDiv.id !== \"altair-viz-2e6ca85d1e164bc1a702c65e42b61c20\") {\n",
       "      outputDiv = document.getElementById(\"altair-viz-2e6ca85d1e164bc1a702c65e42b61c20\");\n",
       "    }\n",
       "    const paths = {\n",
       "      \"vega\": \"https://cdn.jsdelivr.net/npm/vega@5?noext\",\n",
       "      \"vega-lib\": \"https://cdn.jsdelivr.net/npm/vega-lib?noext\",\n",
       "      \"vega-lite\": \"https://cdn.jsdelivr.net/npm/vega-lite@5.8.0?noext\",\n",
       "      \"vega-embed\": \"https://cdn.jsdelivr.net/npm/vega-embed@6?noext\",\n",
       "    };\n",
       "\n",
       "    function maybeLoadScript(lib, version) {\n",
       "      var key = `${lib.replace(\"-\", \"\")}_version`;\n",
       "      return (VEGA_DEBUG[key] == version) ?\n",
       "        Promise.resolve(paths[lib]) :\n",
       "        new Promise(function(resolve, reject) {\n",
       "          var s = document.createElement('script');\n",
       "          document.getElementsByTagName(\"head\")[0].appendChild(s);\n",
       "          s.async = true;\n",
       "          s.onload = () => {\n",
       "            VEGA_DEBUG[key] = version;\n",
       "            return resolve(paths[lib]);\n",
       "          };\n",
       "          s.onerror = () => reject(`Error loading script: ${paths[lib]}`);\n",
       "          s.src = paths[lib];\n",
       "        });\n",
       "    }\n",
       "\n",
       "    function showError(err) {\n",
       "      outputDiv.innerHTML = `<div class=\"error\" style=\"color:red;\">${err}</div>`;\n",
       "      throw err;\n",
       "    }\n",
       "\n",
       "    function displayChart(vegaEmbed) {\n",
       "      vegaEmbed(outputDiv, spec, embedOpt)\n",
       "        .catch(err => showError(`Javascript Error: ${err.message}<br>This usually means there's a typo in your chart specification. See the javascript console for the full traceback.`));\n",
       "    }\n",
       "\n",
       "    if(typeof define === \"function\" && define.amd) {\n",
       "      requirejs.config({paths});\n",
       "      require([\"vega-embed\"], displayChart, err => showError(`Error loading script: ${err.message}`));\n",
       "    } else {\n",
       "      maybeLoadScript(\"vega\", \"5\")\n",
       "        .then(() => maybeLoadScript(\"vega-lite\", \"5.8.0\"))\n",
       "        .then(() => maybeLoadScript(\"vega-embed\", \"6\"))\n",
       "        .catch(showError)\n",
       "        .then(() => displayChart(vegaEmbed));\n",
       "    }\n",
       "  })({\"config\": {\"view\": {\"continuousWidth\": 300, \"continuousHeight\": 300, \"strokeWidth\": 0}, \"axis\": {\"domain\": false, \"grid\": false, \"labelFontSize\": 12, \"titleFontSize\": 14}, \"legend\": {\"labelFontSize\": 12, \"titleFontSize\": 14}, \"title\": {\"anchor\": \"start\", \"fontSize\": 20}}, \"data\": {\"url\": \"https://raw.githubusercontent.com/Pullze/kpop-info-vis/refs/heads/master/data/app_kpop.csv\"}, \"mark\": {\"type\": \"rect\"}, \"encoding\": {\"color\": {\"field\": \"song_count\", \"scale\": {\"nice\": true, \"scheme\": \"blues\"}, \"title\": \"Songs Released\", \"type\": \"quantitative\"}, \"tooltip\": [{\"field\": \"year\", \"title\": \"Year\", \"type\": \"ordinal\"}, {\"field\": \"month\", \"format\": \".0f\", \"title\": \"Month\", \"type\": \"ordinal\"}, {\"field\": \"song_count\", \"title\": \"Number of Songs\", \"type\": \"quantitative\"}], \"x\": {\"axis\": {\"labelAngle\": 0, \"labelFontSize\": 11}, \"field\": \"year\", \"title\": \"Year\", \"type\": \"ordinal\"}, \"y\": {\"axis\": {\"labelAngle\": 0, \"labelFontSize\": 11}, \"field\": \"month\", \"title\": \"Month\", \"type\": \"ordinal\"}}, \"height\": 400, \"title\": \"Monthly K-pop Song Releases (Heatmap)\", \"transform\": [{\"calculate\": \"year(datum['releasedate'])\", \"as\": \"year\"}, {\"calculate\": \"month(datum['releasedate']) + 1\", \"as\": \"month\"}, {\"aggregate\": [{\"op\": \"count\", \"as\": \"song_count\"}], \"groupby\": [\"year\", \"month\"]}, {\"filter\": \"(datum.year >= 2007)\"}], \"width\": 600, \"$schema\": \"https://vega.github.io/schema/vega-lite/v5.8.0.json\"}, {\"mode\": \"vega-lite\"});\n",
       "</script>"
      ],
      "text/plain": [
       "alt.Chart(...)"
      ]
     },
     "execution_count": 48,
     "metadata": {},
     "output_type": "execute_result"
    }
   ],
   "source": [
    "base = alt.Chart(\"https://raw.githubusercontent.com/Pullze/kpop-info-vis/refs/heads/master/data/app_kpop.csv\"\n",
    ").transform_calculate(\n",
    "     year=\"year(datum['releasedate'])\",  # Extract year\n",
    "    month=\"month(datum['releasedate']) + 1\"  # Extract month\n",
    ").transform_aggregate(\n",
    "    song_count='count()',\n",
    "    groupby=['year', 'month']\n",
    ").transform_filter(\n",
    "    (alt.datum.year >= 2007)\n",
    ").mark_rect().encode(\n",
    "y=alt.Y('month:O', title='Month', axis=alt.Axis(labelFontSize=11, labelAngle=0)),\n",
    "x=alt.X('year:O', title='Year', axis=alt.Axis(labelFontSize=11, labelAngle=0)),\n",
    "color=alt.Color('song_count:Q', title='Songs Released', \n",
    "                scale=alt.Scale(scheme='blues', nice=True)),\n",
    "tooltip=[\n",
    "    alt.Tooltip('year:O', title='Year'),\n",
    "    alt.Tooltip('month:O', title='Month', format='.0f'),\n",
    "    alt.Tooltip('song_count:Q', title='Number of Songs')\n",
    "]\n",
    ").properties(\n",
    "    title='Monthly K-pop Song Releases (Heatmap)',\n",
    "    width=600,\n",
    "    height=400\n",
    ").configure_title(\n",
    "    fontSize=20,\n",
    "    anchor='start'\n",
    ").configure_axis(\n",
    "    grid=False,\n",
    "    domain=False,\n",
    "    titleFontSize=14,\n",
    "    labelFontSize=12\n",
    ").configure_view(\n",
    "    strokeWidth=0  # Removes chart borders\n",
    ").configure_legend(\n",
    "    labelFontSize=12,\n",
    "    titleFontSize=14\n",
    ")\n",
    "\n",
    "base"
   ]
  },
  {
   "cell_type": "code",
   "execution_count": null,
   "metadata": {},
   "outputs": [],
   "source": [
    "# base.save('headmap.json')"
   ]
  }
 ],
 "metadata": {
  "kernelspec": {
   "display_name": "vis",
   "language": "python",
   "name": "python3"
  },
  "language_info": {
   "codemirror_mode": {
    "name": "ipython",
    "version": 3
   },
   "file_extension": ".py",
   "mimetype": "text/x-python",
   "name": "python",
   "nbconvert_exporter": "python",
   "pygments_lexer": "ipython3",
   "version": "3.12.7"
  }
 },
 "nbformat": 4,
 "nbformat_minor": 2
}
