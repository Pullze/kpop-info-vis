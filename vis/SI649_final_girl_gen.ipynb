{
 "cells": [
  {
   "cell_type": "markdown",
   "id": "55838ae8",
   "metadata": {
    "id": "55838ae8"
   },
   "source": [
    "## Graph of Girl's generation's most viewed video"
   ]
  },
  {
   "cell_type": "code",
   "execution_count": 2,
   "id": "65729851-f83f-42e9-ae42-5703e532a3d4",
   "metadata": {
    "executionInfo": {
     "elapsed": 1863,
     "status": "ok",
     "timestamp": 1733535925949,
     "user": {
      "displayName": "Lai Wang",
      "userId": "01934754444488158269"
     },
     "user_tz": 300
    },
    "id": "65729851-f83f-42e9-ae42-5703e532a3d4"
   },
   "outputs": [],
   "source": [
    "import pandas as pd\n",
    "import altair as alt\n",
    "from vega_datasets import data"
   ]
  },
  {
   "cell_type": "code",
   "execution_count": 3,
   "id": "1511e020",
   "metadata": {
    "executionInfo": {
     "elapsed": 391,
     "status": "ok",
     "timestamp": 1733535929434,
     "user": {
      "displayName": "Lai Wang",
      "userId": "01934754444488158269"
     },
     "user_tz": 300
    },
    "id": "1511e020"
   },
   "outputs": [],
   "source": [
    "girl_gen = pd.read_csv(\"https://raw.githubusercontent.com/Pullze/kpop-info-vis/refs/heads/master/data/girl_gen.csv\")"
   ]
  },
  {
   "cell_type": "code",
   "execution_count": 4,
   "id": "4a7968cf",
   "metadata": {},
   "outputs": [
    {
     "data": {
      "text/plain": [
       "(2007, 2023)"
      ]
     },
     "execution_count": 4,
     "metadata": {},
     "output_type": "execute_result"
    }
   ],
   "source": [
    "min_year = girl_gen['year'].min()\n",
    "max_year = girl_gen['year'].max()\n",
    "\n",
    "min_year, max_year"
   ]
  },
  {
   "cell_type": "markdown",
   "id": "67717b47",
   "metadata": {
    "id": "67717b47"
   },
   "source": [
    "## Graph_girl_gen"
   ]
  },
  {
   "cell_type": "markdown",
   "id": "5c4852c0",
   "metadata": {
    "id": "5c4852c0"
   },
   "source": [
    "## Annotation to insert\n",
    "\n",
    "-  On YouTube, Girls' Generation's most-viewed music videos were released between 2009 and 2015. Among them, Gee, released in 2009, holds the title as their all-time most-viewed music video with most awards, surpassing 300 million views. Between 2009 and 2011, the group released seven hit songs that became their top-viewed music videos in history. The remaining five songs are Genie, Oh!, Run Devil Run, Mr. Taxi, The Boys and Hoot\n",
    "\n",
    "TODO: Need add annotation to each bar and insert Gee's music video: https://youtube.com/clip/Ugkx9mcVcX0iTfDdE5HM0LviYyfGsRugP3E3?si=ctPjGKl01FjQSu9o\n",
    "\n"
   ]
  },
  {
   "cell_type": "code",
   "execution_count": null,
   "id": "bda6840e",
   "metadata": {
    "executionInfo": {
     "elapsed": 124,
     "status": "ok",
     "timestamp": 1733537331110,
     "user": {
      "displayName": "Lai Wang",
      "userId": "01934754444488158269"
     },
     "user_tz": 300
    },
    "id": "bda6840e"
   },
   "outputs": [
    {
     "data": {
      "text/html": [
       "\n",
       "<style>\n",
       "  #altair-viz-856d39011307416f8ba176b7d5c84414.vega-embed {\n",
       "    width: 100%;\n",
       "    display: flex;\n",
       "  }\n",
       "\n",
       "  #altair-viz-856d39011307416f8ba176b7d5c84414.vega-embed details,\n",
       "  #altair-viz-856d39011307416f8ba176b7d5c84414.vega-embed details summary {\n",
       "    position: relative;\n",
       "  }\n",
       "</style>\n",
       "<div id=\"altair-viz-856d39011307416f8ba176b7d5c84414\"></div>\n",
       "<script type=\"text/javascript\">\n",
       "  var VEGA_DEBUG = (typeof VEGA_DEBUG == \"undefined\") ? {} : VEGA_DEBUG;\n",
       "  (function(spec, embedOpt){\n",
       "    let outputDiv = document.currentScript.previousElementSibling;\n",
       "    if (outputDiv.id !== \"altair-viz-856d39011307416f8ba176b7d5c84414\") {\n",
       "      outputDiv = document.getElementById(\"altair-viz-856d39011307416f8ba176b7d5c84414\");\n",
       "    }\n",
       "    const paths = {\n",
       "      \"vega\": \"https://cdn.jsdelivr.net/npm/vega@5?noext\",\n",
       "      \"vega-lib\": \"https://cdn.jsdelivr.net/npm/vega-lib?noext\",\n",
       "      \"vega-lite\": \"https://cdn.jsdelivr.net/npm/vega-lite@5.8.0?noext\",\n",
       "      \"vega-embed\": \"https://cdn.jsdelivr.net/npm/vega-embed@6?noext\",\n",
       "    };\n",
       "\n",
       "    function maybeLoadScript(lib, version) {\n",
       "      var key = `${lib.replace(\"-\", \"\")}_version`;\n",
       "      return (VEGA_DEBUG[key] == version) ?\n",
       "        Promise.resolve(paths[lib]) :\n",
       "        new Promise(function(resolve, reject) {\n",
       "          var s = document.createElement('script');\n",
       "          document.getElementsByTagName(\"head\")[0].appendChild(s);\n",
       "          s.async = true;\n",
       "          s.onload = () => {\n",
       "            VEGA_DEBUG[key] = version;\n",
       "            return resolve(paths[lib]);\n",
       "          };\n",
       "          s.onerror = () => reject(`Error loading script: ${paths[lib]}`);\n",
       "          s.src = paths[lib];\n",
       "        });\n",
       "    }\n",
       "\n",
       "    function showError(err) {\n",
       "      outputDiv.innerHTML = `<div class=\"error\" style=\"color:red;\">${err}</div>`;\n",
       "      throw err;\n",
       "    }\n",
       "\n",
       "    function displayChart(vegaEmbed) {\n",
       "      vegaEmbed(outputDiv, spec, embedOpt)\n",
       "        .catch(err => showError(`Javascript Error: ${err.message}<br>This usually means there's a typo in your chart specification. See the javascript console for the full traceback.`));\n",
       "    }\n",
       "\n",
       "    if(typeof define === \"function\" && define.amd) {\n",
       "      requirejs.config({paths});\n",
       "      require([\"vega-embed\"], displayChart, err => showError(`Error loading script: ${err.message}`));\n",
       "    } else {\n",
       "      maybeLoadScript(\"vega\", \"5\")\n",
       "        .then(() => maybeLoadScript(\"vega-lite\", \"5.8.0\"))\n",
       "        .then(() => maybeLoadScript(\"vega-embed\", \"6\"))\n",
       "        .catch(showError)\n",
       "        .then(() => displayChart(vegaEmbed));\n",
       "    }\n",
       "  })({\"config\": {\"view\": {\"continuousWidth\": 300, \"continuousHeight\": 300, \"strokeWidth\": 0}}, \"data\": {\"url\": \"https://raw.githubusercontent.com/Pullze/kpop-info-vis/refs/heads/master/data/girl_gen.csv\"}, \"mark\": {\"type\": \"bar\"}, \"encoding\": {\"color\": {\"aggregate\": \"max\", \"field\": \"year\", \"scale\": {\"domainMax\": 2023, \"domainMin\": 2007, \"scheme\": \"tableau10\"}, \"title\": \"Year\", \"type\": \"ordinal\"}, \"tooltip\": [{\"field\": \"name\", \"title\": \"Album\", \"type\": \"nominal\"}, {\"aggregate\": \"sum\", \"field\": \"views\", \"format\": \".2f\", \"title\": \"Views(Million)\", \"type\": \"quantitative\"}, {\"aggregate\": \"sum\", \"field\": \"awards\", \"title\": \"Awards\", \"type\": \"quantitative\"}, {\"aggregate\": \"max\", \"field\": \"year\", \"title\": \"Release Year\", \"type\": \"ordinal\"}], \"x\": {\"aggregate\": \"sum\", \"field\": \"views\", \"title\": \"Views(Million)\", \"type\": \"quantitative\"}, \"y\": {\"field\": \"name\", \"sort\": \"-x\", \"title\": \"MV\", \"type\": \"ordinal\"}}, \"height\": 500, \"params\": [{\"name\": \"param_6\", \"select\": {\"type\": \"point\", \"fields\": [\"year\"]}, \"bind\": {\"input\": \"range\", \"max\": 2023, \"min\": 2007, \"name\": \"By \", \"step\": 1}, \"value\": 2023}], \"title\": {\"text\": \"Top Girls' Generation MVs with Most Views and Awards By Time\", \"fontSize\": 18}, \"transform\": [{\"calculate\": \"(datum.views) / 1000000\", \"as\": \"views\"}, {\"calculate\": \"upper(datum.name)\", \"as\": \"name\"}, {\"filter\": \"(datum.year <= param_6.year)\"}, {\"window\": [{\"op\": \"rank\", \"field\": \"sum(views)\", \"as\": \"rank\"}], \"sort\": [{\"field\": \"views\", \"order\": \"descending\"}]}, {\"filter\": \"(datum.rank <= 15)\"}], \"width\": 500, \"$schema\": \"https://vega.github.io/schema/vega-lite/v5.8.0.json\"}, {\"mode\": \"vega-lite\"});\n",
       "</script>"
      ],
      "text/plain": [
       "alt.Chart(...)"
      ]
     },
     "execution_count": 11,
     "metadata": {},
     "output_type": "execute_result"
    }
   ],
   "source": [
    "# Bar chart for albums with the most views\n",
    "slider = alt.binding_range(min=min_year, max=max_year, step=1, name=\"By \")\n",
    "selector = alt.selection_point(fields=['year'], bind=slider, value=max_year)\n",
    "\n",
    "chart = alt.Chart(\n",
    "    \"https://raw.githubusercontent.com/Pullze/kpop-info-vis/refs/heads/master/data/girl_gen.csv\", \n",
    "     title=alt.Title(text=\"Top Girls' Generation MVs with Most Views and Awards By Time\", fontSize=18)\n",
    ").transform_calculate(\n",
    "    views=\"(datum.views) / 1000000\",\n",
    "    name=\"upper(datum.name)\"\n",
    ").mark_bar().encode(\n",
    "    x=alt.X('sum(views):Q', title='Views(Million)'),\n",
    "    y=alt.Y('name:O', sort='-x', title='MV'),\n",
    "    color=alt.Color('max(year):O', title='Year', scale=alt.Scale(scheme='tableau10')),\n",
    "    tooltip=[\n",
    "        alt.Tooltip('name:N', title='Album'),\n",
    "        alt.Tooltip('sum(views):Q', title='Views(Million)', format='.2f'),  # Format to 2 decimals\n",
    "        alt.Tooltip('sum(awards):Q', title='Awards'),\n",
    "        alt.Tooltip('max(year):O', title='Release Year')\n",
    "    ]\n",
    ").add_params(\n",
    "    selector\n",
    ").transform_filter(\n",
    "    (alt.datum.year <= selector.year)\n",
    ").transform_window(\n",
    "    rank='rank(sum(views))',\n",
    "    sort=[alt.SortField('views', order='descending')]\n",
    ").transform_filter(\n",
    "    (alt.datum.rank <= 15)\n",
    ").properties(\n",
    "    width=500,\n",
    "    height=500,\n",
    ").configure_view(strokeWidth=0)\n",
    "\n",
    "chart"
   ]
  },
  {
   "cell_type": "code",
   "execution_count": 6,
   "id": "b11b728e",
   "metadata": {},
   "outputs": [],
   "source": [
    "chart.save('girl_gen.json')"
   ]
  }
 ],
 "metadata": {
  "colab": {
   "provenance": []
  },
  "kernelspec": {
   "display_name": "vis",
   "language": "python",
   "name": "python3"
  },
  "language_info": {
   "codemirror_mode": {
    "name": "ipython",
    "version": 3
   },
   "file_extension": ".py",
   "mimetype": "text/x-python",
   "name": "python",
   "nbconvert_exporter": "python",
   "pygments_lexer": "ipython3",
   "version": "3.12.7"
  }
 },
 "nbformat": 4,
 "nbformat_minor": 5
}
